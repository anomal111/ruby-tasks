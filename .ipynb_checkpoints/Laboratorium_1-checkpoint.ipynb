{
 "metadata": {
  "language": "ruby",
  "name": "",
  "signature": "sha256:ff253b7ff133ebab17b0a32b6246a3f2259113a3986fb459c70e3fd0af211ebf"
 },
 "nbformat": 3,
 "nbformat_minor": 0,
 "worksheets": [
  {
   "cells": [
    {
     "cell_type": "heading",
     "level": 1,
     "metadata": {},
     "source": [
      "\u0141a\u0144cuchy znak\u00f3w"
     ]
    },
    {
     "cell_type": "heading",
     "level": 2,
     "metadata": {},
     "source": [
      "Cudzys\u0142owy"
     ]
    },
    {
     "cell_type": "markdown",
     "metadata": {},
     "source": [
      "Wy\u015bwietl na ektranie \u0142a\u0144cuch znak\u00f3w otoczony podw\u00f3jnymi cudzys\u0142owami `\"`. U\u017cyj znaku w-ty\u0142-ciach `\\` aby wprowadzi\u0107 znaki specjalne, np.:\n",
      "* `\\n` - znak nowej linii\n",
      "* `\\t` - znak tabulacji poziomej\n",
      "* `\\v` - znak tabulacji pionowej\n",
      "\n",
      "Przyk\u0142ad\n",
      "```ruby\n",
      "puts \"Ala ma kota.\\nAnia ma psa.\"\n",
      "```"
     ]
    },
    {
     "cell_type": "code",
     "collapsed": false,
     "input": [
      "puts \"jajo \\nkura\""
     ],
     "language": "python",
     "metadata": {},
     "outputs": [
      {
       "output_type": "stream",
       "stream": "stdout",
       "text": [
        "jajo \n",
        "kura\n"
       ]
      }
     ],
     "prompt_number": 5
    },
    {
     "cell_type": "markdown",
     "metadata": {},
     "source": [
      "Wy\u015bwietl \u0142a\u0144cuch znak\u00f3w otoczony pojedynczymi cudzys\u0142owami `'`. Sprawd\u017a dzia\u0142anie znaku `\\`.\n",
      "\n",
      "Przyk\u0142ad\n",
      "\n",
      "```ruby\n",
      "puts 'Ala ma kota.\\nAnia ma psa.'\n",
      "```"
     ]
    },
    {
     "cell_type": "code",
     "collapsed": false,
     "input": [],
     "language": "python",
     "metadata": {},
     "outputs": [],
     "prompt_number": 16
    },
    {
     "cell_type": "heading",
     "level": 2,
     "metadata": {},
     "source": [
      "Interpolacja"
     ]
    },
    {
     "cell_type": "markdown",
     "metadata": {},
     "source": [
      "W Rubim aby wstawi\u0107 warto\u015b\u0107 zmiennej do \u0142a\u0144cucha mo\u017cna u\u017cy\u0107 _interpolacji_. Korzystaj\u0105c z sekwencji #{} mo\u017cna do \u0142a\u0144cucha wstawi\u0107 dowolny kod Rubiego.\n",
      "\n",
      "Sprawd\u017a dzia\u0142anie interpolacji z wykorzystaniem zmiennych.\n",
      "\n",
      "Przyk\u0142ad\n",
      "```ruby\n",
      "imie = \"Aniu\"\n",
      "puts \"Witaj #{imie}\"\n",
      "```"
     ]
    },
    {
     "cell_type": "code",
     "collapsed": false,
     "input": [
      "imie = \"aniu, ty mala d...\"\n",
      "puts \"witejcie #{imie}\""
     ],
     "language": "python",
     "metadata": {},
     "outputs": [
      {
       "output_type": "stream",
       "stream": "stdout",
       "text": [
        "witejcie aniu, ty mala d...\n"
       ]
      }
     ],
     "prompt_number": 6
    },
    {
     "cell_type": "markdown",
     "metadata": {},
     "source": [
      "Podobny efekt mo\u017cna uzyska\u0107 za pomoc\u0105 operatora dodawania `+`. \n",
      "\n",
      "Przyk\u0142ad\n",
      "```ruby\n",
      "imie = \"Aniu\"\n",
      "puts \"Witaj \" + imie\n",
      "```"
     ]
    },
    {
     "cell_type": "code",
     "collapsed": false,
     "input": [
      "imie = \"tomaszku, to zawziety c...\"\n",
      "puts = \"siemano \" + imie"
     ],
     "language": "python",
     "metadata": {},
     "outputs": [
      {
       "metadata": {},
       "output_type": "pyout",
       "prompt_number": 7,
       "text": [
        "\"siemano tomaszku, to zawziety c...\""
       ]
      }
     ],
     "prompt_number": 7
    },
    {
     "cell_type": "markdown",
     "metadata": {},
     "source": [
      "Istnieje jednak istotna r\u00f3\u017cnica pomi\u0119dzy tymi narz\u0119dziami. W przypadku interpolacji zawsze niejawnie nast\u0119puje zamiana warto\u015bci\n",
      "na \u0142a\u0144cuch znak\u00f3w. W przypadku dodawania nic takiego si\u0119 nie dzieje, wi\u0119c warto\u015b\u0107 musi ju\u017c by\u0107 \u0142a\u0144cuchem.\n",
      "  \n",
      "Spr\u00f3buj wykona\u0107 nast\u0119puj\u0105cy kod:\n",
      "```ruby\n",
      "imie = \"Aniu\"\n",
      "puts \"Witaj \" + imie\n",
      "liczba = 2\n",
      "puts \"Witaj \" + liczba\n",
      "```"
     ]
    },
    {
     "cell_type": "code",
     "collapsed": false,
     "input": [
      "imie = \"januszku\"\n",
      "puts \"witaj \" + imie\n",
      "liczba = 2\n",
      "puts \"oto liczba #{liczba}\""
     ],
     "language": "python",
     "metadata": {},
     "outputs": [
      {
       "output_type": "stream",
       "stream": "stdout",
       "text": [
        "witaj januszku\n"
       ]
      },
      {
       "output_type": "stream",
       "stream": "stdout",
       "text": [
        "oto liczba 2\n"
       ]
      }
     ],
     "prompt_number": 9
    },
    {
     "cell_type": "markdown",
     "metadata": {},
     "source": [
      "Aby weliminowa\u0107 wyst\u0119puj\u0105cy problem, konieczne jest wcze\u015bniejsze zamienienie liczby na \u0142a\u0144cuch znak\u00f3w.\n",
      "S\u0142u\u017cy do tego metoda `to_s`.\n",
      "\n",
      "Przyk\u0142ad\n",
      "```ruby\n",
      "liczba = 2\n",
      "puts \"Witaj \" + liczba.to_s\n",
      "```"
     ]
    },
    {
     "cell_type": "code",
     "collapsed": false,
     "input": [
      "puts 'witaj\\nwitaj'"
     ],
     "language": "python",
     "metadata": {},
     "outputs": [
      {
       "output_type": "stream",
       "stream": "stdout",
       "text": [
        "witaj\\nwitaj\n"
       ]
      }
     ],
     "prompt_number": 13
    },
    {
     "cell_type": "markdown",
     "metadata": {},
     "source": [
      "W przypadku interpolacji metoda `to_s` jest wywo\u0142ywana niejawnie. Je\u015bli zatem umieszczasz warto\u015bci r\u00f3\u017cnych zmiennych w napisie,\n",
      "pro\u015bciej jest u\u017cy\u0107 interpolacji.\n",
      "\n",
      "Jednak\u017ce interpolacja nie dzia\u0142a w przypadku \u0142a\u0144cuch\u00f3w otoczonych pojedynczymi cudzys\u0142owami.\n",
      "\n",
      "Przyk\u0142ad\n",
      "```ruby\n",
      "liczba = 2\n",
      "puts 'Witaj #{liczba}'\n",
      "```"
     ]
    },
    {
     "cell_type": "code",
     "collapsed": false,
     "input": [
      "liczba = 2\n",
      "puts \"liczba #{liczba*liczba}\""
     ],
     "language": "python",
     "metadata": {},
     "outputs": [
      {
       "output_type": "stream",
       "stream": "stdout",
       "text": [
        "liczba 4\n"
       ]
      }
     ],
     "prompt_number": 14
    },
    {
     "cell_type": "heading",
     "level": 2,
     "metadata": {},
     "source": [
      "Dokumenty zagnie\u017cd\u017cone"
     ]
    },
    {
     "cell_type": "markdown",
     "metadata": {},
     "source": [
      "Czasami w programie przydatne jest u\u017cycie \u0142a\u0144cucha sk\u0142adaj\u0105cego si\u0119 z wielu wierszy. \n",
      "Mo\u017cna to zrobi\u0107 nast\u0119puj\u0105co:\n",
      "\n",
      "```ruby\n",
      "napis = \"Ala ma kota.\\nAnia ma psa.\\nOla ma szynszyle\"\n",
      "```\n",
      "\n",
      "Wygodniej jest jednak u\u017cy\u0107 dokument\u00f3w zagnie\u017cd\u017conych. Dokument taki zaczyna si\u0119\u00a0od sekwencji `<<`, po kt\u00f3rej pojawia si\u0119 \u0142a\u0144cuch znak\u00f3w, oznaczaj\u0105cy koniec - _znacznik ko\u0144ca_. Ca\u0142y tekst, a\u017c do wyst\u0105pienia znacznika ko\u0144ca, traktowany jest jak pojedynczy \u0142a\u0144cuch oddzielony znakami nowej linii.\n",
      "\n",
      "Przyk\u0142ad\n",
      "```\n",
      "tekst = <<END_OF_STRING\n",
      "Remember those walls I built?\n",
      "Well, baby they're tumbling down\n",
      "And they didn't even put up a fight\n",
      "They didn't even make a sound\n",
      "I found a way to let you in\n",
      "But, I never really had a doubt\n",
      "Standing in the light of your halo\n",
      "I got my angel now\n",
      "END_OF_STRING\n",
      "\n",
      "puts tekst\n",
      "```"
     ]
    },
    {
     "cell_type": "code",
     "collapsed": false,
     "input": [],
     "language": "python",
     "metadata": {},
     "outputs": [],
     "prompt_number": 37
    },
    {
     "cell_type": "markdown",
     "metadata": {},
     "source": [
      "**Wa\u017cna uwaga** - interpolacja dzia\u0142a r\u00f3wnie\u017c wewn\u0105trz dokument\u00f3w zagnie\u017cd\u017conych."
     ]
    },
    {
     "cell_type": "heading",
     "level": 2,
     "metadata": {},
     "source": [
      "Operacje na \u0142a\u0144cuchach"
     ]
    },
    {
     "cell_type": "markdown",
     "metadata": {},
     "source": [
      "Poza dodawaniem, \u0142a\u0144cuchy mo\u017cna r\u00f3wnie\u017c mno\u017cy\u0107, _konkatenowa\u0107_ (wyd\u0142u\u017ca\u0107) oraz formatowa\u0107. \n",
      "\n",
      "Mno\u017cenie polega na zwielokrotnieniu zawarto\u015bci \u0142a\u0144cucha:\n",
      "```ruby\n",
      "puts \"Ala \" * 3\n",
      "```"
     ]
    },
    {
     "cell_type": "code",
     "collapsed": false,
     "input": [
      "puts \"ala \" + \"i \" + \"pawcio\""
     ],
     "language": "python",
     "metadata": {},
     "outputs": [
      {
       "output_type": "stream",
       "stream": "stdout",
       "text": [
        "ala i pawcio\n"
       ]
      }
     ],
     "prompt_number": 18
    },
    {
     "cell_type": "markdown",
     "metadata": {},
     "source": [
      "Kontatenowanie polega na doklejaniu tre\u015bci do \u0142a\u0144cucha, kt\u00f3ry jest przypisany do zmiennej:\n",
      "```ruby\n",
      "tekst = \"Remember those walls I built? \"\n",
      "tekst << \"Well, baby they're tumbling down\"\n",
      "puts tekst\n",
      "```"
     ]
    },
    {
     "cell_type": "code",
     "collapsed": false,
     "input": [
      "tekst = \"Remember those walls I built? \"\n",
      "tekst << \"Well baby, they're tumbling down\"\n",
      "puts tekst"
     ],
     "language": "python",
     "metadata": {},
     "outputs": [
      {
       "output_type": "stream",
       "stream": "stdout",
       "text": [
        "Remember those walls I built? Well baby, they're tumbling down\n"
       ]
      }
     ],
     "prompt_number": 16
    },
    {
     "cell_type": "markdown",
     "metadata": {},
     "source": [
      "U\u017cycie operatora `+` w tym wypadku nie da\u0142oby takiego efektu:\n",
      "```ruby\n",
      "tekst = \"Remember those walls I built? \"\n",
      "tekst + \"Well, baby they're tumbling down\"\n",
      "puts tekst\n",
      "```"
     ]
    },
    {
     "cell_type": "code",
     "collapsed": true,
     "input": [
      "puts \"znajdz napis 'dupa'\"\n",
      "puts \"zupa \" * 100 + \"dupa \" + \"zupa \" * 99"
     ],
     "language": "python",
     "metadata": {},
     "outputs": [
      {
       "output_type": "stream",
       "stream": "stdout",
       "text": [
        "znajdz napis 'dupa'\n"
       ]
      },
      {
       "output_type": "stream",
       "stream": "stdout",
       "text": [
        "zupa zupa zupa zupa zupa zupa zupa zupa zupa zupa zupa zupa zupa zupa zupa zupa zupa zupa zupa zupa zupa zupa zupa zupa zupa zupa zupa zupa zupa zupa zupa zupa zupa zupa zupa zupa zupa zupa zupa zupa zupa zupa zupa zupa zupa zupa zupa zupa zupa zupa zupa zupa zupa zupa zupa zupa zupa zupa zupa zupa zupa zupa zupa zupa zupa zupa zupa zupa zupa zupa zupa zupa zupa zupa zupa zupa zupa zupa zupa zupa zupa zupa zupa zupa zupa zupa zupa zupa zupa zupa zupa zupa zupa zupa zupa zupa zupa zupa zupa zupa dupa zupa zupa zupa zupa zupa zupa zupa zupa zupa zupa zupa zupa zupa zupa zupa zupa zupa zupa zupa zupa zupa zupa zupa zupa zupa zupa zupa zupa zupa zupa zupa zupa zupa zupa zupa zupa zupa zupa zupa zupa zupa zupa zupa zupa zupa zupa zupa zupa zupa zupa zupa zupa zupa zupa zupa zupa zupa zupa zupa zupa zupa zupa zupa zupa zupa zupa zupa zupa zupa zupa zupa zupa zupa zupa zupa zupa zupa zupa zupa zupa zupa zupa zupa zupa zupa zupa zupa zupa zupa zupa zupa zupa zupa zupa zupa zupa zupa zupa zupa \n"
       ]
      }
     ],
     "prompt_number": 27
    },
    {
     "cell_type": "markdown",
     "metadata": {},
     "source": [
      "Formatowanie jest za\u015b analogiczne do dzia\u0142ania funkcji `printf` w j\u0119zyku C:\n",
      "```ruby\n",
      "puts \"Liczba %.2f\" % 3.567891\n",
      "```"
     ]
    },
    {
     "cell_type": "code",
     "collapsed": false,
     "input": [
      "puts \"Liczba %.4f napis %s\" % [3.123456, 'lolol']"
     ],
     "language": "python",
     "metadata": {},
     "outputs": [
      {
       "output_type": "stream",
       "stream": "stdout",
       "text": [
        "Liczba 3.1235 napis lolol\n"
       ]
      }
     ],
     "prompt_number": 32
    },
    {
     "cell_type": "markdown",
     "metadata": {},
     "source": [
      "**Uwaga** podobnie jak w j\u0119zyku C, formatowanie powoduje zaokr\u0105glenie warto\u015bci liczby."
     ]
    },
    {
     "cell_type": "code",
     "collapsed": false,
     "input": [],
     "language": "python",
     "metadata": {},
     "outputs": [],
     "prompt_number": 19
    }
   ],
   "metadata": {}
  }
 ]
}